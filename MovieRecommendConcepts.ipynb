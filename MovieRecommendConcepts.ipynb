{
 "cells": [
  {
   "cell_type": "code",
   "execution_count": 1,
   "id": "530403b6",
   "metadata": {},
   "outputs": [],
   "source": [
    "import pandas as pd\n",
    "from sklearn.model_selection import train_test_split"
   ]
  },
  {
   "cell_type": "code",
   "execution_count": 2,
   "id": "aa518e45",
   "metadata": {},
   "outputs": [],
   "source": [
    "df=pd.read_csv('Datasets/Recommend.csv')\n",
    "#df"
   ]
  },
  {
   "cell_type": "code",
   "execution_count": 3,
   "id": "e9aa721e",
   "metadata": {},
   "outputs": [
    {
     "data": {
      "text/html": [
       "<div>\n",
       "<style scoped>\n",
       "    .dataframe tbody tr th:only-of-type {\n",
       "        vertical-align: middle;\n",
       "    }\n",
       "\n",
       "    .dataframe tbody tr th {\n",
       "        vertical-align: top;\n",
       "    }\n",
       "\n",
       "    .dataframe thead th {\n",
       "        text-align: right;\n",
       "    }\n",
       "</style>\n",
       "<table border=\"1\" class=\"dataframe\">\n",
       "  <thead>\n",
       "    <tr style=\"text-align: right;\">\n",
       "      <th></th>\n",
       "      <th>user_id</th>\n",
       "      <th>movie_id</th>\n",
       "      <th>rating</th>\n",
       "      <th>timestamp</th>\n",
       "    </tr>\n",
       "  </thead>\n",
       "  <tbody>\n",
       "    <tr>\n",
       "      <th>0</th>\n",
       "      <td>196</td>\n",
       "      <td>242</td>\n",
       "      <td>3</td>\n",
       "      <td>881250949</td>\n",
       "    </tr>\n",
       "    <tr>\n",
       "      <th>1</th>\n",
       "      <td>186</td>\n",
       "      <td>302</td>\n",
       "      <td>3</td>\n",
       "      <td>891717742</td>\n",
       "    </tr>\n",
       "    <tr>\n",
       "      <th>2</th>\n",
       "      <td>22</td>\n",
       "      <td>377</td>\n",
       "      <td>1</td>\n",
       "      <td>878887116</td>\n",
       "    </tr>\n",
       "    <tr>\n",
       "      <th>3</th>\n",
       "      <td>244</td>\n",
       "      <td>51</td>\n",
       "      <td>2</td>\n",
       "      <td>880606923</td>\n",
       "    </tr>\n",
       "    <tr>\n",
       "      <th>4</th>\n",
       "      <td>166</td>\n",
       "      <td>346</td>\n",
       "      <td>1</td>\n",
       "      <td>886397596</td>\n",
       "    </tr>\n",
       "    <tr>\n",
       "      <th>...</th>\n",
       "      <td>...</td>\n",
       "      <td>...</td>\n",
       "      <td>...</td>\n",
       "      <td>...</td>\n",
       "    </tr>\n",
       "    <tr>\n",
       "      <th>99995</th>\n",
       "      <td>880</td>\n",
       "      <td>476</td>\n",
       "      <td>3</td>\n",
       "      <td>880175444</td>\n",
       "    </tr>\n",
       "    <tr>\n",
       "      <th>99996</th>\n",
       "      <td>716</td>\n",
       "      <td>204</td>\n",
       "      <td>5</td>\n",
       "      <td>879795543</td>\n",
       "    </tr>\n",
       "    <tr>\n",
       "      <th>99997</th>\n",
       "      <td>276</td>\n",
       "      <td>1090</td>\n",
       "      <td>1</td>\n",
       "      <td>874795795</td>\n",
       "    </tr>\n",
       "    <tr>\n",
       "      <th>99998</th>\n",
       "      <td>13</td>\n",
       "      <td>225</td>\n",
       "      <td>2</td>\n",
       "      <td>882399156</td>\n",
       "    </tr>\n",
       "    <tr>\n",
       "      <th>99999</th>\n",
       "      <td>12</td>\n",
       "      <td>203</td>\n",
       "      <td>3</td>\n",
       "      <td>879959583</td>\n",
       "    </tr>\n",
       "  </tbody>\n",
       "</table>\n",
       "<p>100000 rows × 4 columns</p>\n",
       "</div>"
      ],
      "text/plain": [
       "       user_id  movie_id  rating  timestamp\n",
       "0          196       242       3  881250949\n",
       "1          186       302       3  891717742\n",
       "2           22       377       1  878887116\n",
       "3          244        51       2  880606923\n",
       "4          166       346       1  886397596\n",
       "...        ...       ...     ...        ...\n",
       "99995      880       476       3  880175444\n",
       "99996      716       204       5  879795543\n",
       "99997      276      1090       1  874795795\n",
       "99998       13       225       2  882399156\n",
       "99999       12       203       3  879959583\n",
       "\n",
       "[100000 rows x 4 columns]"
      ]
     },
     "execution_count": 3,
     "metadata": {},
     "output_type": "execute_result"
    }
   ],
   "source": [
    "df=pd.read_csv('Datasets/Recommend.csv',names=['user_id','movie_id','rating','timestamp'])\n",
    "df"
   ]
  },
  {
   "cell_type": "code",
   "execution_count": 4,
   "id": "0915d3c6",
   "metadata": {},
   "outputs": [],
   "source": [
    "#declare number of users and movies and create a train test split 75/25\n",
    "\n",
    "n_users=df.user_id.unique().shape[0]\n",
    "n_movies=df.movie_id.unique().shape[0]\n",
    "train_data,test_data=train_test_split(df,test_size=0.25)"
   ]
  },
  {
   "cell_type": "code",
   "execution_count": 5,
   "id": "e6b82a5e",
   "metadata": {},
   "outputs": [],
   "source": [
    "import numpy as np\n"
   ]
  },
  {
   "cell_type": "code",
   "execution_count": 6,
   "id": "b628d2e4",
   "metadata": {},
   "outputs": [
    {
     "data": {
      "text/plain": [
       "array([[5., 3., 0., ..., 0., 0., 0.],\n",
       "       [0., 0., 0., ..., 0., 0., 0.],\n",
       "       [0., 0., 0., ..., 0., 0., 0.],\n",
       "       ...,\n",
       "       [5., 0., 0., ..., 0., 0., 0.],\n",
       "       [0., 0., 0., ..., 0., 0., 0.],\n",
       "       [0., 5., 0., ..., 0., 0., 0.]])"
      ]
     },
     "execution_count": 6,
     "metadata": {},
     "output_type": "execute_result"
    }
   ],
   "source": [
    "train_data_matrix=np.zeros((n_users,n_movies))\n",
    "for line in train_data.itertuples():\n",
    "    train_data_matrix[line[1]-1,line[2]-1]=line[3]\n",
    "train_data_matrix"
   ]
  },
  {
   "cell_type": "code",
   "execution_count": 7,
   "id": "f6dcd358",
   "metadata": {},
   "outputs": [
    {
     "name": "stdout",
     "output_type": "stream",
     "text": [
      "[[5. 3. 0.]\n",
      " [4. 0. 2.]\n",
      " [0. 5. 0.]]\n"
     ]
    }
   ],
   "source": [
    "#Reference Code for matrix\n",
    "import numpy as np\n",
    "import pandas as pd\n",
    "\n",
    "# Example train_data DataFrame\n",
    "data = {\n",
    "    'user_id': [1, 1, 2, 2, 3],\n",
    "    'movie_id': [1, 2, 1, 3, 2],\n",
    "    'rating': [5, 3, 4, 2, 5]\n",
    "}\n",
    "train_data = pd.DataFrame(data)\n",
    "\n",
    "# Number of unique users and movies\n",
    "n_users = train_data.user_id.unique().shape[0]\n",
    "n_movies = train_data.movie_id.unique().shape[0]\n",
    "\n",
    "# Initialize the user-item matrix\n",
    "train_data_matrix = np.zeros((n_users, n_movies))\n",
    "\n",
    "# Populate the matrix with ratings\n",
    "for line in train_data.itertuples():\n",
    "    train_data_matrix[line[1]-1, line[2]-1] = line[3]\n",
    "\n",
    "print(train_data_matrix)"
   ]
  },
  {
   "cell_type": "code",
   "execution_count": 8,
   "id": "329ce9c5",
   "metadata": {},
   "outputs": [],
   "source": [
    "#Use case solution step 5"
   ]
  },
  {
   "cell_type": "code",
   "execution_count": 9,
   "id": "d401f931",
   "metadata": {},
   "outputs": [
    {
     "data": {
      "text/plain": [
       "array([[2.18916496, 4.27030551, 1.54052953],\n",
       "       [1.08930542, 4.76635427, 0.14434031],\n",
       "       [3.7756093 , 0.42926512, 0.79512558]])"
      ]
     },
     "execution_count": 9,
     "metadata": {},
     "output_type": "execute_result"
    }
   ],
   "source": [
    "from sklearn.metrics.pairwise import pairwise_distances\n",
    "user_similarity=pairwise_distances(train_data_matrix,metric='cosine')\n",
    "movie_similarity=pairwise_distances(train_data_matrix.T,metric='cosine')\n",
    "mean_user_rating=train_data_matrix.mean(axis=1)[:,np.newaxis]\n",
    "ratings_diff=(train_data_matrix-mean_user_rating)\n",
    "user_pred=mean_user_rating+user_similarity.dot(ratings_diff)/np.array([np.abs(user_similarity).sum(axis=1)]).T\n",
    "user_pred"
   ]
  },
  {
   "cell_type": "code",
   "execution_count": 10,
   "id": "ab9e78cb",
   "metadata": {},
   "outputs": [],
   "source": [
    "# This code implements a user-based collaborative filtering recommendation system. \n",
    "# It calculates predicted ratings for users based on the similarities between users and\n",
    "# the differences between their ratings and their average ratings. "
   ]
  },
  {
   "cell_type": "code",
   "execution_count": 11,
   "id": "696d35f6",
   "metadata": {},
   "outputs": [
    {
     "data": {
      "text/plain": [
       "array([[1.8434971 , 1.87157107, 3.54577707],\n",
       "       [0.77100193, 2.74862843, 1.09155414],\n",
       "       [3.07249517, 0.        , 3.63555733]])"
      ]
     },
     "execution_count": 11,
     "metadata": {},
     "output_type": "execute_result"
    }
   ],
   "source": [
    "movie_pred=train_data_matrix.dot(movie_similarity)/np.array([np.abs(movie_similarity).sum(axis=1)])\n",
    "movie_pred"
   ]
  },
  {
   "cell_type": "code",
   "execution_count": 18,
   "id": "3df7e78d",
   "metadata": {},
   "outputs": [],
   "source": [
    "def rmse(pred,test):\n",
    "    pred=pred[test.nonzero()].flatten()\n",
    "    test=test[test.nonzero()].flatten()\n",
    "    return sqrt(mean_squared_error(pred,test))"
   ]
  },
  {
   "cell_type": "code",
   "execution_count": 15,
   "id": "8f1b6797",
   "metadata": {},
   "outputs": [],
   "source": [
    "test_data_matrix=np.zeros((n_users,n_movies))\n"
   ]
  },
  {
   "cell_type": "code",
   "execution_count": 20,
   "id": "e9523e99",
   "metadata": {},
   "outputs": [
    {
     "name": "stdout",
     "output_type": "stream",
     "text": [
      "[[5. 3. 0.]\n",
      " [4. 0. 2.]\n",
      " [0. 5. 0.]]\n"
     ]
    }
   ],
   "source": [
    "# Populate the matrix with ratings\n",
    "for line in train_data.itertuples():\n",
    "    test_data_matrix[line[1]-1, line[2]-1] = line[3]\n",
    "\n",
    "print(test_data_matrix)"
   ]
  },
  {
   "cell_type": "code",
   "execution_count": 21,
   "id": "7605949c",
   "metadata": {},
   "outputs": [
    {
     "ename": "NameError",
     "evalue": "name 'sqrt' is not defined",
     "output_type": "error",
     "traceback": [
      "\u001b[1;31m---------------------------------------------------------------------------\u001b[0m",
      "\u001b[1;31mNameError\u001b[0m                                 Traceback (most recent call last)",
      "Cell \u001b[1;32mIn[21], line 1\u001b[0m\n\u001b[1;32m----> 1\u001b[0m \u001b[43mrmse\u001b[49m\u001b[43m(\u001b[49m\u001b[43muser_pred\u001b[49m\u001b[43m,\u001b[49m\u001b[43mtest_data_matrix\u001b[49m\u001b[43m)\u001b[49m\n\u001b[0;32m      2\u001b[0m rmse(movie_pred,test_data_matrix)\n",
      "Cell \u001b[1;32mIn[18], line 4\u001b[0m, in \u001b[0;36mrmse\u001b[1;34m(pred, test)\u001b[0m\n\u001b[0;32m      2\u001b[0m pred\u001b[38;5;241m=\u001b[39mpred[test\u001b[38;5;241m.\u001b[39mnonzero()]\u001b[38;5;241m.\u001b[39mflatten()\n\u001b[0;32m      3\u001b[0m test\u001b[38;5;241m=\u001b[39mtest[test\u001b[38;5;241m.\u001b[39mnonzero()]\u001b[38;5;241m.\u001b[39mflatten()\n\u001b[1;32m----> 4\u001b[0m \u001b[38;5;28;01mreturn\u001b[39;00m \u001b[43msqrt\u001b[49m(mean_squared_error(pred,test))\n",
      "\u001b[1;31mNameError\u001b[0m: name 'sqrt' is not defined"
     ]
    }
   ],
   "source": [
    "rmse(user_pred,test_data_matrix)\n",
    "rmse(movie_pred,test_data_matrix)"
   ]
  }
 ],
 "metadata": {
  "kernelspec": {
   "display_name": "Python 3 (ipykernel)",
   "language": "python",
   "name": "python3"
  },
  "language_info": {
   "codemirror_mode": {
    "name": "ipython",
    "version": 3
   },
   "file_extension": ".py",
   "mimetype": "text/x-python",
   "name": "python",
   "nbconvert_exporter": "python",
   "pygments_lexer": "ipython3",
   "version": "3.10.9"
  }
 },
 "nbformat": 4,
 "nbformat_minor": 5
}
