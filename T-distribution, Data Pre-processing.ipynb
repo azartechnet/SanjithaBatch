{
 "cells": [
  {
   "cell_type": "code",
   "execution_count": null,
   "id": "28878b81",
   "metadata": {},
   "outputs": [],
   "source": [
    "#T-distribution:\n",
    "# The T-distribution, also known as Student's T-distribution, \n",
    "#is a probability distribution used in statistics, particularly in hypothesis testing\n",
    "#and confidence interval estimation when the sample size is small and/or the population standard deviation is unknown.\n",
    "# It is similar to the normal distribution but has heavier tails, meaning \n",
    "#it is more prone to producing values far from its mean.\n",
    "# As the sample size increases, the T-distribution approaches the normal distribution."
   ]
  },
  {
   "cell_type": "code",
   "execution_count": 6,
   "id": "05ad585a",
   "metadata": {},
   "outputs": [],
   "source": [
    "import numpy as np\n",
    "import scipy.stats as stats"
   ]
  },
  {
   "cell_type": "code",
   "execution_count": 7,
   "id": "dedb2d2e",
   "metadata": {},
   "outputs": [],
   "source": [
    "#Give data\n",
    "sample_mean=150\n",
    "sample_std=10\n",
    "sample_size=15\n",
    "confidence_level=0.95"
   ]
  },
  {
   "cell_type": "code",
   "execution_count": 8,
   "id": "e78e5909",
   "metadata": {},
   "outputs": [
    {
     "data": {
      "text/plain": [
       "2.581988897471611"
      ]
     },
     "execution_count": 8,
     "metadata": {},
     "output_type": "execute_result"
    }
   ],
   "source": [
    "#Calculate the standard error of the mean\n",
    "sem=sample_std/np.sqrt(sample_size)\n",
    "sem"
   ]
  },
  {
   "cell_type": "code",
   "execution_count": 9,
   "id": "5884514a",
   "metadata": {},
   "outputs": [],
   "source": [
    "#calculate the T-critical value\n",
    "t_critical=stats.t.ppf((1+confidence_level)/2,df=sample_size-1)\n",
    "#Calculate the margin of error\n",
    "margin_of_error=t_critical*sem"
   ]
  },
  {
   "cell_type": "code",
   "execution_count": 10,
   "id": "9430c306",
   "metadata": {},
   "outputs": [
    {
     "data": {
      "text/plain": [
       "5.537815415646416"
      ]
     },
     "execution_count": 10,
     "metadata": {},
     "output_type": "execute_result"
    }
   ],
   "source": [
    "margin_of_error"
   ]
  },
  {
   "cell_type": "code",
   "execution_count": null,
   "id": "8ff4072c",
   "metadata": {},
   "outputs": [],
   "source": [
    "#calculate the confidence interval"
   ]
  },
  {
   "cell_type": "code",
   "execution_count": 11,
   "id": "7dcf8057",
   "metadata": {},
   "outputs": [],
   "source": [
    "confidence_intervel=(sample_mean-margin_of_error,sample_mean+margin_of_error)"
   ]
  },
  {
   "cell_type": "code",
   "execution_count": 12,
   "id": "5271f84e",
   "metadata": {},
   "outputs": [
    {
     "data": {
      "text/plain": [
       "(144.4621845843536, 155.5378154156464)"
      ]
     },
     "execution_count": 12,
     "metadata": {},
     "output_type": "execute_result"
    }
   ],
   "source": [
    "confidence_intervel\n"
   ]
  },
  {
   "cell_type": "code",
   "execution_count": 13,
   "id": "7e8795ba",
   "metadata": {},
   "outputs": [
    {
     "name": "stdout",
     "output_type": "stream",
     "text": [
      "sampleMean:: 150\n",
      "T-CriticalValue:: 2.1447866879169273\n",
      "Margin of error:: 5.537815415646416\n",
      "Confidence Intervel:: (144.4621845843536, 155.5378154156464)\n"
     ]
    }
   ],
   "source": [
    "#Display the result\n",
    "print(\"sampleMean::\",sample_mean)\n",
    "print(\"T-CriticalValue::\",t_critical)\n",
    "print(\"Margin of error::\",margin_of_error)\n",
    "print(\"Confidence Intervel::\",confidence_intervel)"
   ]
  },
  {
   "cell_type": "code",
   "execution_count": null,
   "id": "6ed6e2fc",
   "metadata": {},
   "outputs": [],
   "source": [
    "# Data Preprocessing:\n",
    "# Data preprocessing is the process of transforming raw data into a clean and usable format before feeding it into a machine learning model. This step is crucial for improving the model's performance.\n",
    "# Common steps in data preprocessing include:\n",
    "# Data Cleaning: Handling missing values, removing duplicates, and correcting errors in the data.\n",
    "# Data Transformation: Normalizing or standardizing data, encoding categorical variables, and transforming skewed data.\n",
    "# Feature Engineering: Creating new features from existing data to improve model accuracy.\n",
    "# Data Splitting: Dividing the dataset into training, validation, and test sets."
   ]
  },
  {
   "cell_type": "code",
   "execution_count": 23,
   "id": "a2570ac0",
   "metadata": {},
   "outputs": [],
   "source": [
    "import pandas as pd\n",
    "from sklearn.impute import SimpleImputer\n",
    "from sklearn.preprocessing import LabelEncoder,StandardScaler\n",
    "from sklearn.model_selection import train_test_split"
   ]
  },
  {
   "cell_type": "code",
   "execution_count": 24,
   "id": "ea565850",
   "metadata": {},
   "outputs": [],
   "source": [
    "data = {\n",
    "    'CustomerID': [1, 2, 3, 4, 5],\n",
    "    'Age': [25, 30, 35, None, 40],\n",
    "    'Gender': ['Male', 'Female', 'Female', 'Male', 'Female'],\n",
    "    'Salary': [50000, None, 60000, 70000, 80000],\n",
    "    'Purchased': ['Yes', 'No', 'Yes', 'No', 'Yes']\n",
    "}\n"
   ]
  },
  {
   "cell_type": "code",
   "execution_count": 25,
   "id": "0f55a618",
   "metadata": {},
   "outputs": [
    {
     "data": {
      "text/plain": [
       "{'CustomerID': [1, 2, 3, 4, 5],\n",
       " 'Age': [25, 30, 35, None, 40],\n",
       " 'Gender': ['Male', 'Female', 'Female', 'Male', 'Female'],\n",
       " 'Salary': [50000, None, 60000, 70000, 80000],\n",
       " 'Purchased': ['Yes', 'No', 'Yes', 'No', 'Yes']}"
      ]
     },
     "execution_count": 25,
     "metadata": {},
     "output_type": "execute_result"
    }
   ],
   "source": [
    "data"
   ]
  },
  {
   "cell_type": "code",
   "execution_count": 26,
   "id": "afc739ce",
   "metadata": {},
   "outputs": [],
   "source": [
    "df=pd.DataFrame(data)"
   ]
  },
  {
   "cell_type": "code",
   "execution_count": 27,
   "id": "d6bd4b72",
   "metadata": {},
   "outputs": [
    {
     "data": {
      "text/html": [
       "<div>\n",
       "<style scoped>\n",
       "    .dataframe tbody tr th:only-of-type {\n",
       "        vertical-align: middle;\n",
       "    }\n",
       "\n",
       "    .dataframe tbody tr th {\n",
       "        vertical-align: top;\n",
       "    }\n",
       "\n",
       "    .dataframe thead th {\n",
       "        text-align: right;\n",
       "    }\n",
       "</style>\n",
       "<table border=\"1\" class=\"dataframe\">\n",
       "  <thead>\n",
       "    <tr style=\"text-align: right;\">\n",
       "      <th></th>\n",
       "      <th>CustomerID</th>\n",
       "      <th>Age</th>\n",
       "      <th>Gender</th>\n",
       "      <th>Salary</th>\n",
       "      <th>Purchased</th>\n",
       "    </tr>\n",
       "  </thead>\n",
       "  <tbody>\n",
       "    <tr>\n",
       "      <th>0</th>\n",
       "      <td>1</td>\n",
       "      <td>25.0</td>\n",
       "      <td>Male</td>\n",
       "      <td>50000.0</td>\n",
       "      <td>Yes</td>\n",
       "    </tr>\n",
       "    <tr>\n",
       "      <th>1</th>\n",
       "      <td>2</td>\n",
       "      <td>30.0</td>\n",
       "      <td>Female</td>\n",
       "      <td>NaN</td>\n",
       "      <td>No</td>\n",
       "    </tr>\n",
       "    <tr>\n",
       "      <th>2</th>\n",
       "      <td>3</td>\n",
       "      <td>35.0</td>\n",
       "      <td>Female</td>\n",
       "      <td>60000.0</td>\n",
       "      <td>Yes</td>\n",
       "    </tr>\n",
       "    <tr>\n",
       "      <th>3</th>\n",
       "      <td>4</td>\n",
       "      <td>NaN</td>\n",
       "      <td>Male</td>\n",
       "      <td>70000.0</td>\n",
       "      <td>No</td>\n",
       "    </tr>\n",
       "    <tr>\n",
       "      <th>4</th>\n",
       "      <td>5</td>\n",
       "      <td>40.0</td>\n",
       "      <td>Female</td>\n",
       "      <td>80000.0</td>\n",
       "      <td>Yes</td>\n",
       "    </tr>\n",
       "  </tbody>\n",
       "</table>\n",
       "</div>"
      ],
      "text/plain": [
       "   CustomerID   Age  Gender   Salary Purchased\n",
       "0           1  25.0    Male  50000.0       Yes\n",
       "1           2  30.0  Female      NaN        No\n",
       "2           3  35.0  Female  60000.0       Yes\n",
       "3           4   NaN    Male  70000.0        No\n",
       "4           5  40.0  Female  80000.0       Yes"
      ]
     },
     "execution_count": 27,
     "metadata": {},
     "output_type": "execute_result"
    }
   ],
   "source": [
    "df"
   ]
  },
  {
   "cell_type": "code",
   "execution_count": 28,
   "id": "a024c7d6",
   "metadata": {},
   "outputs": [],
   "source": [
    "imputer=SimpleImputer(strategy='mean')\n",
    "df['Age']=imputer.fit_transform(df[['Age']])\n",
    "df['Salary']=imputer.fit_transform(df[['Salary']])\n"
   ]
  },
  {
   "cell_type": "code",
   "execution_count": 29,
   "id": "6e3b7440",
   "metadata": {},
   "outputs": [],
   "source": [
    "label_encoder_gender=LabelEncoder()\n",
    "df['Gender']=label_encoder_gender.fit_transform(df['Gender'])"
   ]
  },
  {
   "cell_type": "code",
   "execution_count": 30,
   "id": "66c8388a",
   "metadata": {},
   "outputs": [],
   "source": [
    "label_encoder_purchased = LabelEncoder()\n",
    "df['Purchased'] = label_encoder_purchased.fit_transform(df['Purchased'])\n",
    "\n",
    "# Step 4: Feature Scaling\n",
    "scaler = StandardScaler()\n",
    "df[['Age', 'Salary']] = scaler.fit_transform(df[['Age', 'Salary']])"
   ]
  },
  {
   "cell_type": "code",
   "execution_count": 35,
   "id": "806f5c80",
   "metadata": {},
   "outputs": [],
   "source": [
    "X=df[['Age','Gender','Salary']]\n",
    "Y=df['Purchased']"
   ]
  },
  {
   "cell_type": "code",
   "execution_count": 32,
   "id": "110378a8",
   "metadata": {},
   "outputs": [
    {
     "data": {
      "text/html": [
       "<div>\n",
       "<style scoped>\n",
       "    .dataframe tbody tr th:only-of-type {\n",
       "        vertical-align: middle;\n",
       "    }\n",
       "\n",
       "    .dataframe tbody tr th {\n",
       "        vertical-align: top;\n",
       "    }\n",
       "\n",
       "    .dataframe thead th {\n",
       "        text-align: right;\n",
       "    }\n",
       "</style>\n",
       "<table border=\"1\" class=\"dataframe\">\n",
       "  <thead>\n",
       "    <tr style=\"text-align: right;\">\n",
       "      <th></th>\n",
       "      <th>Age</th>\n",
       "      <th>Gender</th>\n",
       "      <th>Salary</th>\n",
       "    </tr>\n",
       "  </thead>\n",
       "  <tbody>\n",
       "    <tr>\n",
       "      <th>0</th>\n",
       "      <td>-1.5</td>\n",
       "      <td>1</td>\n",
       "      <td>-1.5</td>\n",
       "    </tr>\n",
       "    <tr>\n",
       "      <th>1</th>\n",
       "      <td>-0.5</td>\n",
       "      <td>0</td>\n",
       "      <td>0.0</td>\n",
       "    </tr>\n",
       "    <tr>\n",
       "      <th>2</th>\n",
       "      <td>0.5</td>\n",
       "      <td>0</td>\n",
       "      <td>-0.5</td>\n",
       "    </tr>\n",
       "    <tr>\n",
       "      <th>3</th>\n",
       "      <td>0.0</td>\n",
       "      <td>1</td>\n",
       "      <td>0.5</td>\n",
       "    </tr>\n",
       "    <tr>\n",
       "      <th>4</th>\n",
       "      <td>1.5</td>\n",
       "      <td>0</td>\n",
       "      <td>1.5</td>\n",
       "    </tr>\n",
       "  </tbody>\n",
       "</table>\n",
       "</div>"
      ],
      "text/plain": [
       "   Age  Gender  Salary\n",
       "0 -1.5       1    -1.5\n",
       "1 -0.5       0     0.0\n",
       "2  0.5       0    -0.5\n",
       "3  0.0       1     0.5\n",
       "4  1.5       0     1.5"
      ]
     },
     "execution_count": 32,
     "metadata": {},
     "output_type": "execute_result"
    }
   ],
   "source": [
    "x"
   ]
  },
  {
   "cell_type": "code",
   "execution_count": 33,
   "id": "e9955910",
   "metadata": {},
   "outputs": [
    {
     "data": {
      "text/plain": [
       "0    1\n",
       "1    0\n",
       "2    1\n",
       "3    0\n",
       "4    1\n",
       "Name: Purchased, dtype: int32"
      ]
     },
     "execution_count": 33,
     "metadata": {},
     "output_type": "execute_result"
    }
   ],
   "source": [
    "y"
   ]
  },
  {
   "cell_type": "code",
   "execution_count": 36,
   "id": "04c92281",
   "metadata": {},
   "outputs": [
    {
     "name": "stdout",
     "output_type": "stream",
     "text": [
      "Processed DataFrame:\n",
      "   CustomerID  Age  Gender  Salary  Purchased\n",
      "0           1 -1.5       1    -1.5          1\n",
      "1           2 -0.5       0     0.0          0\n",
      "2           3  0.5       0    -0.5          1\n",
      "3           4  0.0       1     0.5          0\n",
      "4           5  1.5       0     1.5          1\n",
      "\n",
      "Training Features (X_train):\n",
      "   Age  Gender  Salary\n",
      "4  1.5       0     1.5\n",
      "2  0.5       0    -0.5\n",
      "0 -1.5       1    -1.5\n",
      "3  0.0       1     0.5\n",
      "\n",
      "Test Features (X_test):\n",
      "   Age  Gender  Salary\n",
      "1 -0.5       0     0.0\n",
      "\n",
      "Training Labels (y_train):\n",
      "4    1\n",
      "2    1\n",
      "0    1\n",
      "3    0\n",
      "Name: Purchased, dtype: int32\n",
      "\n",
      "Test Labels (y_test):\n",
      "1    0\n",
      "Name: Purchased, dtype: int32\n"
     ]
    }
   ],
   "source": [
    "X_train, X_test, y_train, y_test = train_test_split(X, y, test_size=0.2, random_state=42)\n",
    "\n",
    "# Display the processed data and the train/test splits\n",
    "print(\"Processed DataFrame:\")\n",
    "print(df)\n",
    "print(\"\\nTraining Features (X_train):\")\n",
    "print(X_train)\n",
    "print(\"\\nTest Features (X_test):\")\n",
    "print(X_test)\n",
    "print(\"\\nTraining Labels (y_train):\")\n",
    "print(y_train)\n",
    "print(\"\\nTest Labels (y_test):\")\n",
    "print(y_test)"
   ]
  }
 ],
 "metadata": {
  "kernelspec": {
   "display_name": "Python 3 (ipykernel)",
   "language": "python",
   "name": "python3"
  },
  "language_info": {
   "codemirror_mode": {
    "name": "ipython",
    "version": 3
   },
   "file_extension": ".py",
   "mimetype": "text/x-python",
   "name": "python",
   "nbconvert_exporter": "python",
   "pygments_lexer": "ipython3",
   "version": "3.10.9"
  }
 },
 "nbformat": 4,
 "nbformat_minor": 5
}
