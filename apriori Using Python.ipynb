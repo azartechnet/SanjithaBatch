{
 "cells": [
  {
   "cell_type": "code",
   "execution_count": 4,
   "id": "27857ca5",
   "metadata": {},
   "outputs": [
    {
     "name": "stdout",
     "output_type": "stream",
     "text": [
      "DataFrame:\n",
      "    Milk  Bread  Butter  Beer\n",
      "0     1      1       0     1\n",
      "1     0      1       1     0\n",
      "2     1      0       1     0\n",
      "3     1      1       0     1\n",
      "4     0      1       1     0\n",
      "Frequent Itemsets:\n",
      "    support             itemsets\n",
      "0      0.6               (Milk)\n",
      "1      0.8              (Bread)\n",
      "2      0.6             (Butter)\n",
      "3      0.4               (Beer)\n",
      "4      0.4        (Milk, Bread)\n",
      "5      0.2       (Milk, Butter)\n",
      "6      0.4         (Milk, Beer)\n",
      "7      0.4      (Butter, Bread)\n",
      "8      0.4        (Beer, Bread)\n",
      "9      0.4  (Milk, Beer, Bread)\n",
      "Association Rules:\n",
      "      antecedents    consequents  antecedent support  consequent support  \\\n",
      "0         (Beer)         (Milk)                 0.4                 0.6   \n",
      "1         (Beer)        (Bread)                 0.4                 0.8   \n",
      "2   (Milk, Beer)        (Bread)                 0.4                 0.8   \n",
      "3  (Milk, Bread)         (Beer)                 0.4                 0.4   \n",
      "4  (Beer, Bread)         (Milk)                 0.4                 0.6   \n",
      "5         (Beer)  (Milk, Bread)                 0.4                 0.4   \n",
      "\n",
      "   support  confidence      lift  leverage  conviction  zhangs_metric  \n",
      "0      0.4         1.0  1.666667      0.16         inf       0.666667  \n",
      "1      0.4         1.0  1.250000      0.08         inf       0.333333  \n",
      "2      0.4         1.0  1.250000      0.08         inf       0.333333  \n",
      "3      0.4         1.0  2.500000      0.24         inf       1.000000  \n",
      "4      0.4         1.0  1.666667      0.16         inf       0.666667  \n",
      "5      0.4         1.0  2.500000      0.24         inf       1.000000  \n"
     ]
    },
    {
     "name": "stderr",
     "output_type": "stream",
     "text": [
      "C:\\Users\\azart\\anaconda3\\lib\\site-packages\\mlxtend\\frequent_patterns\\fpcommon.py:109: DeprecationWarning: DataFrames with non-bool types result in worse computationalperformance and their support might be discontinued in the future.Please use a DataFrame with bool type\n",
      "  warnings.warn(\n"
     ]
    }
   ],
   "source": [
    "import pandas as pd\n",
    "from mlxtend.frequent_patterns import apriori, association_rules\n",
    "\n",
    "# Example data\n",
    "data = {\n",
    "    'Milk': [1, 0, 1, 1, 0],\n",
    "    'Bread': [1, 1, 0, 1, 1],\n",
    "    'Butter': [0, 1, 1, 0, 1],\n",
    "    'Beer': [1, 0, 0, 1, 0]\n",
    "}\n",
    "\n",
    "df = pd.DataFrame(data)\n",
    "print(\"DataFrame:\\n\", df)\n",
    "\n",
    "# Applying Apriori algorithm\n",
    "frequent_itemsets = apriori(df, min_support=0.2, use_colnames=True)\n",
    "print(\"Frequent Itemsets:\\n\", frequent_itemsets)\n",
    "\n",
    "# Generating association rules\n",
    "rules = association_rules(frequent_itemsets, metric=\"confidence\", min_threshold=0.9)\n",
    "print(\"Association Rules:\\n\", rules)"
   ]
  },
  {
   "cell_type": "code",
   "execution_count": null,
   "id": "9f16c712",
   "metadata": {},
   "outputs": [],
   "source": []
  },
  {
   "cell_type": "code",
   "execution_count": null,
   "id": "e5f92024",
   "metadata": {},
   "outputs": [],
   "source": []
  }
 ],
 "metadata": {
  "kernelspec": {
   "display_name": "Python 3 (ipykernel)",
   "language": "python",
   "name": "python3"
  },
  "language_info": {
   "codemirror_mode": {
    "name": "ipython",
    "version": 3
   },
   "file_extension": ".py",
   "mimetype": "text/x-python",
   "name": "python",
   "nbconvert_exporter": "python",
   "pygments_lexer": "ipython3",
   "version": "3.10.9"
  }
 },
 "nbformat": 4,
 "nbformat_minor": 5
}
