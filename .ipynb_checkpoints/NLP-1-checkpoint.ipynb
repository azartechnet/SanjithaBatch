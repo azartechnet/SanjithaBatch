{
 "cells": [
  {
   "cell_type": "code",
   "execution_count": 1,
   "id": "831b2184",
   "metadata": {},
   "outputs": [
    {
     "name": "stdout",
     "output_type": "stream",
     "text": [
      "Requirement already satisfied: nltk in c:\\users\\azart\\anaconda3\\lib\\site-packages (3.7)\n",
      "Requirement already satisfied: click in c:\\users\\azart\\anaconda3\\lib\\site-packages (from nltk) (8.0.4)\n",
      "Requirement already satisfied: joblib in c:\\users\\azart\\anaconda3\\lib\\site-packages (from nltk) (1.4.2)\n",
      "Requirement already satisfied: regex>=2021.8.3 in c:\\users\\azart\\anaconda3\\lib\\site-packages (from nltk) (2022.7.9)\n",
      "Requirement already satisfied: tqdm in c:\\users\\azart\\anaconda3\\lib\\site-packages (from nltk) (4.64.1)\n",
      "Requirement already satisfied: colorama in c:\\users\\azart\\anaconda3\\lib\\site-packages (from click->nltk) (0.4.6)\n"
     ]
    }
   ],
   "source": [
    "!pip install nltk"
   ]
  },
  {
   "cell_type": "code",
   "execution_count": 2,
   "id": "01ce43f6",
   "metadata": {},
   "outputs": [],
   "source": [
    "import nltk\n",
    "from nltk.corpus import stopwords"
   ]
  },
  {
   "cell_type": "code",
   "execution_count": 3,
   "id": "5e59df02",
   "metadata": {},
   "outputs": [
    {
     "name": "stdout",
     "output_type": "stream",
     "text": [
      "['i', 'me', 'my', 'myself', 'we', 'our', 'ours', 'ourselves', 'you', \"you're\", \"you've\", \"you'll\", \"you'd\", 'your', 'yours', 'yourself', 'yourselves', 'he', 'him', 'his', 'himself', 'she', \"she's\", 'her', 'hers', 'herself', 'it', \"it's\", 'its', 'itself', 'they', 'them', 'their', 'theirs', 'themselves', 'what', 'which', 'who', 'whom', 'this', 'that', \"that'll\", 'these', 'those', 'am', 'is', 'are', 'was', 'were', 'be', 'been', 'being', 'have', 'has', 'had', 'having', 'do', 'does', 'did', 'doing', 'a', 'an', 'the', 'and', 'but', 'if', 'or', 'because', 'as', 'until', 'while', 'of', 'at', 'by', 'for', 'with', 'about', 'against', 'between', 'into', 'through', 'during', 'before', 'after', 'above', 'below', 'to', 'from', 'up', 'down', 'in', 'out', 'on', 'off', 'over', 'under', 'again', 'further', 'then', 'once', 'here', 'there', 'when', 'where', 'why', 'how', 'all', 'any', 'both', 'each', 'few', 'more', 'most', 'other', 'some', 'such', 'no', 'nor', 'not', 'only', 'own', 'same', 'so', 'than', 'too', 'very', 's', 't', 'can', 'will', 'just', 'don', \"don't\", 'should', \"should've\", 'now', 'd', 'll', 'm', 'o', 're', 've', 'y', 'ain', 'aren', \"aren't\", 'couldn', \"couldn't\", 'didn', \"didn't\", 'doesn', \"doesn't\", 'hadn', \"hadn't\", 'hasn', \"hasn't\", 'haven', \"haven't\", 'isn', \"isn't\", 'ma', 'mightn', \"mightn't\", 'mustn', \"mustn't\", 'needn', \"needn't\", 'shan', \"shan't\", 'shouldn', \"shouldn't\", 'wasn', \"wasn't\", 'weren', \"weren't\", 'won', \"won't\", 'wouldn', \"wouldn't\"]\n"
     ]
    },
    {
     "name": "stderr",
     "output_type": "stream",
     "text": [
      "[nltk_data] Downloading package stopwords to\n",
      "[nltk_data]     C:\\Users\\azart\\AppData\\Roaming\\nltk_data...\n",
      "[nltk_data]   Package stopwords is already up-to-date!\n"
     ]
    }
   ],
   "source": [
    "nltk.download('stopwords')\n",
    "print(stopwords.words('english'))"
   ]
  },
  {
   "cell_type": "code",
   "execution_count": 4,
   "id": "e0015107",
   "metadata": {},
   "outputs": [],
   "source": [
    "#Removing stop words with NLTK\n",
    "from nltk.corpus import stopwords\n",
    "from nltk.tokenize import word_tokenize"
   ]
  },
  {
   "cell_type": "code",
   "execution_count": 9,
   "id": "b0ed7040",
   "metadata": {},
   "outputs": [],
   "source": [
    "example_sent=\"This is a sample sentences,showing off the stop words filtration\"\n",
    "\n",
    "stop_words=set(stopwords.words('english'))\n",
    "\n",
    "word_tokens=word_tokenize(example_sent)"
   ]
  },
  {
   "cell_type": "code",
   "execution_count": 10,
   "id": "44c057bb",
   "metadata": {},
   "outputs": [
    {
     "data": {
      "text/plain": [
       "['This',\n",
       " 'is',\n",
       " 'a',\n",
       " 'sample',\n",
       " 'sentences',\n",
       " ',',\n",
       " 'showing',\n",
       " 'off',\n",
       " 'the',\n",
       " 'stop',\n",
       " 'words',\n",
       " 'filtration']"
      ]
     },
     "execution_count": 10,
     "metadata": {},
     "output_type": "execute_result"
    }
   ],
   "source": [
    "word_tokens"
   ]
  },
  {
   "cell_type": "code",
   "execution_count": 7,
   "id": "0b99eef8",
   "metadata": {},
   "outputs": [],
   "source": [
    "filtered_sentence=[word for word in word_tokens if word.lower() not in stop_words]"
   ]
  },
  {
   "cell_type": "code",
   "execution_count": 8,
   "id": "622713f1",
   "metadata": {},
   "outputs": [
    {
     "name": "stdout",
     "output_type": "stream",
     "text": [
      "Original Sentence:: This is a sample sentences,showing off the stop words filtration\n",
      "Filtered sentence:: samplesentences,showingstopwordsfiltration\n"
     ]
    }
   ],
   "source": [
    "print(\"Original Sentence::\",example_sent)\n",
    "print(\"Filtered sentence::\",''.join(filtered_sentence))"
   ]
  },
  {
   "cell_type": "code",
   "execution_count": null,
   "id": "7db8a5ac",
   "metadata": {},
   "outputs": [],
   "source": [
    "#Remove stop words with spacy\n",
    "#!pip install spacy"
   ]
  },
  {
   "cell_type": "code",
   "execution_count": 11,
   "id": "0d89a741",
   "metadata": {},
   "outputs": [],
   "source": [
    "import spacy"
   ]
  },
  {
   "cell_type": "code",
   "execution_count": 12,
   "id": "88d07f10",
   "metadata": {},
   "outputs": [],
   "source": [
    "#Load the english model\n",
    "nlp=spacy.load(\"en_core_web_sm\")"
   ]
  },
  {
   "cell_type": "code",
   "execution_count": 16,
   "id": "a6e64343",
   "metadata": {},
   "outputs": [
    {
     "data": {
      "text/plain": [
       "<spacy.lang.en.English at 0x1e45e16e680>"
      ]
     },
     "execution_count": 16,
     "metadata": {},
     "output_type": "execute_result"
    }
   ],
   "source": [
    "nlp"
   ]
  },
  {
   "cell_type": "code",
   "execution_count": 13,
   "id": "7f215407",
   "metadata": {},
   "outputs": [],
   "source": [
    "#sample text\n",
    "text=\"There is a pen on the table\""
   ]
  },
  {
   "cell_type": "code",
   "execution_count": 14,
   "id": "274dde03",
   "metadata": {},
   "outputs": [],
   "source": [
    "#Process the text using spacy\n",
    "doc=nlp(text)"
   ]
  },
  {
   "cell_type": "code",
   "execution_count": 15,
   "id": "22939d07",
   "metadata": {},
   "outputs": [
    {
     "data": {
      "text/plain": [
       "There is a pen on the table"
      ]
     },
     "execution_count": 15,
     "metadata": {},
     "output_type": "execute_result"
    }
   ],
   "source": [
    "doc"
   ]
  },
  {
   "cell_type": "code",
   "execution_count": 17,
   "id": "9b1637ef",
   "metadata": {},
   "outputs": [],
   "source": [
    "#Remove stopwords\n",
    "filtered_words=[token.text for token in doc if not token.is_stop]"
   ]
  },
  {
   "cell_type": "code",
   "execution_count": 18,
   "id": "3bbd954a",
   "metadata": {},
   "outputs": [
    {
     "data": {
      "text/plain": [
       "['pen', 'table']"
      ]
     },
     "execution_count": 18,
     "metadata": {},
     "output_type": "execute_result"
    }
   ],
   "source": [
    "filtered_words"
   ]
  },
  {
   "cell_type": "code",
   "execution_count": 23,
   "id": "210badb7",
   "metadata": {},
   "outputs": [],
   "source": [
    "#join the filtered words to form a clean text\n",
    "clean_text='-'.join(filtered_words)"
   ]
  },
  {
   "cell_type": "code",
   "execution_count": 24,
   "id": "cf812f15",
   "metadata": {},
   "outputs": [
    {
     "data": {
      "text/plain": [
       "'pen-table'"
      ]
     },
     "execution_count": 24,
     "metadata": {},
     "output_type": "execute_result"
    }
   ],
   "source": [
    "clean_text"
   ]
  },
  {
   "cell_type": "code",
   "execution_count": 25,
   "id": "238b1045",
   "metadata": {},
   "outputs": [
    {
     "name": "stdout",
     "output_type": "stream",
     "text": [
      "Original Text:: There is a pen on the table\n",
      "Text after stopwords Removal:: pen-table\n"
     ]
    }
   ],
   "source": [
    "print(\"Original Text::\",text)\n",
    "print(\"Text after stopwords Removal::\",clean_text)"
   ]
  },
  {
   "cell_type": "code",
   "execution_count": null,
   "id": "63bbfaf0",
   "metadata": {},
   "outputs": [],
   "source": [
    "#Removing stop words with Genism"
   ]
  },
  {
   "cell_type": "code",
   "execution_count": 26,
   "id": "ff3b0078",
   "metadata": {},
   "outputs": [],
   "source": [
    "from sklearn.feature_extraction.text import CountVectorizer\n",
    "from nltk.corpus import stopwords\n",
    "from nltk.tokenize import word_tokenize"
   ]
  },
  {
   "cell_type": "code",
   "execution_count": 27,
   "id": "dbb2ed1b",
   "metadata": {},
   "outputs": [],
   "source": [
    "#Sample text\n",
    "new_text=\"The quick brown fox jumps over the lazy dog\"\n"
   ]
  },
  {
   "cell_type": "code",
   "execution_count": 28,
   "id": "dcbdc5c5",
   "metadata": {},
   "outputs": [],
   "source": [
    "#Tokenize the new text using NLTK\n",
    "new_words=word_tokenize(new_text)"
   ]
  },
  {
   "cell_type": "code",
   "execution_count": 29,
   "id": "02f3a8c3",
   "metadata": {},
   "outputs": [],
   "source": [
    "#Remove stopwords\n",
    "new_filtered_words=[\n",
    "    word for word in new_words if word.lower() not in stopwords.words('english')\n",
    "]"
   ]
  },
  {
   "cell_type": "code",
   "execution_count": 30,
   "id": "9639c586",
   "metadata": {},
   "outputs": [],
   "source": [
    "new_clean_text=' '.join(new_filtered_words)"
   ]
  },
  {
   "cell_type": "code",
   "execution_count": 31,
   "id": "9005419b",
   "metadata": {},
   "outputs": [
    {
     "name": "stdout",
     "output_type": "stream",
     "text": [
      "Original Text:: The quick brown fox jumps over the lazy dog\n",
      "Text after stopwords Removal:: quick brown fox jumps lazy dog\n"
     ]
    }
   ],
   "source": [
    "print(\"Original Text::\",new_text)\n",
    "print(\"Text after stopwords Removal::\",new_clean_text)"
   ]
  },
  {
   "cell_type": "code",
   "execution_count": 2,
   "id": "8a719220",
   "metadata": {},
   "outputs": [],
   "source": [
    "#Removing stop words with sklearn\n",
    "\n",
    "from sklearn.feature_extraction.text import CountVectorizer\n",
    "from nltk.corpus import stopwords\n",
    "from nltk.tokenize import word_tokenize"
   ]
  },
  {
   "cell_type": "code",
   "execution_count": 3,
   "id": "b24271fc",
   "metadata": {},
   "outputs": [],
   "source": [
    "#Another  sample text\n",
    "new_text=\"The quick brown fox jumps over the lazy dog\";\n",
    "new_words=word_tokenize(new_text)"
   ]
  },
  {
   "cell_type": "code",
   "execution_count": 4,
   "id": "8eb39987",
   "metadata": {},
   "outputs": [],
   "source": [
    "#Remove stopwords\n",
    "new_filtered_words=[\n",
    "    word for word in new_words if word.lower() not in stopwords.words('english')\n",
    "]"
   ]
  },
  {
   "cell_type": "code",
   "execution_count": 5,
   "id": "7fa2483d",
   "metadata": {},
   "outputs": [],
   "source": [
    "new_clean_text=' '.join(new_filtered_words)"
   ]
  },
  {
   "cell_type": "code",
   "execution_count": 6,
   "id": "25101a07",
   "metadata": {},
   "outputs": [
    {
     "name": "stdout",
     "output_type": "stream",
     "text": [
      "Original Text:: The quick brown fox jumps over the lazy dog\n",
      "Text after stopwords Removal:: quick brown fox jumps lazy dog\n"
     ]
    }
   ],
   "source": [
    "print(\"Original Text::\",new_text)\n",
    "print(\"Text after stopwords Removal::\",new_clean_text)"
   ]
  }
 ],
 "metadata": {
  "kernelspec": {
   "display_name": "Python 3 (ipykernel)",
   "language": "python",
   "name": "python3"
  },
  "language_info": {
   "codemirror_mode": {
    "name": "ipython",
    "version": 3
   },
   "file_extension": ".py",
   "mimetype": "text/x-python",
   "name": "python",
   "nbconvert_exporter": "python",
   "pygments_lexer": "ipython3",
   "version": "3.10.9"
  }
 },
 "nbformat": 4,
 "nbformat_minor": 5
}
